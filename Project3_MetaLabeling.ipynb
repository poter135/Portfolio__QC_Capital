{
 "cells": [
  {
   "cell_type": "markdown",
   "id": "90439be3",
   "metadata": {},
   "source": [
    "## **Project3：Meta-Labeling應用示範**\n",
    "\n",
    "### **動機**\n",
    "\n",
    "由於金融市場在不同時段其市場結構（Market Regime）可能大相逕庭，直接在原始價格資料上套用機器學習模型往往容易失敗。Meta-Labeling 的核心想法在於：\n",
    "\n",
    "1. 先透過一個「初步模型（Primary Model）」檢測出市場結構或可能的信號，\n",
    "2. 再以機器學習做第二層篩選，產生更穩健的交易決策。\n",
    "\n",
    "---\n",
    "\n",
    "### **流程概述**\n",
    "\n",
    "1. **Primary Model：CUSUM Filter + Triple Barrier Method**\n",
    "\n",
    "   * 使用 CUSUM 濾波器（CUSUM Filter）作為初步信號產生器，偵測價格累積變動是否突破當前波動門檻。\n",
    "   * 針對每個 CUSUM 事件（t\\_event），套用 Triple Barrier Method（上下界 + 垂直界）進行標籤（Labeling），將事件標記為「多頭／空頭／中性」。\n",
    "   * 同時計算每筆事件的「唯一性」（Uniqueness），並根據其唯一性分配樣本權重，使訓練資料更接近 i.i.d. 分佈，降低模型過度擬合風險。\n",
    "\n",
    "2. **特徵來源整合**\n",
    "\n",
    "   * 將 Project1（以 PCA 或其他方法完成的商品分群結果）所選出的商品列表作為分析對象。\n",
    "   * 將 Project2 中計算出的「重要指標」作為模型輸入，確保只選用在先前分析中證明具有顯著貢獻的技術指標或統計特徵。\n",
    "\n",
    "3. **自訂 Random Forest 作為二層模型**\n",
    "\n",
    "   * 為了克服金融資料非 i.i.d. 的特性，本專案實作一個 Custom Random Forest，修改其 Bootstrap 抽樣機制，使每棵決策樹以「樣本權重」作為抽樣依據。\n",
    "   * 將第一步所標記的事件（含 Label 與權重）與第二步選出的特徵一起，輸入自訂 Random Forest 進行訓練。\n",
    "   * 最終比較 Train/Test 資料集上的模型效能，以驗證 Meta-Labeling 策略在不同商品上的適用性與泛化能力。\n",
    "\n",
    "---\n",
    "\n",
    "### **核心特色說明**\n",
    "\n",
    "* **CUSUM Filter**\n",
    "\n",
    "  * 依據近 N 日移動波動率計算上下門檻，當價格累積變動值超過該閾值時，紀錄一個 CUSUM 事件。\n",
    "  * 有效抓取顯著且連續的價格偏離，避免單純以固定時間間隔下單帶來的雜訊。\n",
    "\n",
    "* **Triple Barrier Method**\n",
    "\n",
    "  * 包含三個停界： \n",
    "\n",
    "    1. **停利門檻**：以倍數乘上事件發生當時的目標波動率（Target Volatility）。\n",
    "    2. **停損門檻**：同樣以倍數乘上目標波動率。\n",
    "    3. **垂直停界**：設定事件發生後的最大存活時間（例如 2 個交易日）。\n",
    "  * 依據三者先觸發的情況，將該事件標記為「多頭」（觸及停利）、「空頭」（觸及停損）或「中性」（觸及垂直界仍未達停利／停損）。\n",
    "\n",
    "* **Uniqueness 加權**\n",
    "\n",
    "  * 每筆事件可能與其他事件存在時間重疊，Uniqueness 衡量單一事件在所有事件集合中的相對獨立性。\n",
    "  * 權重計算範例：\n",
    "    $\\text{Uniqueness}(i) = \\frac{1}{\\sum_{j=1}^{M} \\mathbf{1}\\{i \\text{ 和 } j \\text{ 之間有重疊}\\}}$\n",
    "  * 藉由此機制，減少重疊性過高的事件在訓練集中被重複抽樣的機率。\n",
    "\n",
    "* **自訂 Random Forest**\n",
    "\n",
    "  * Sklearn 內建 RF 在 Bootstrap 時是均勻隨機抽樣，不考慮樣本權重。\n",
    "  * Custom RF 以「Uniqueness 權重」作為抽樣機率，確保重疊度高的事件不會主導模型訓練。\n",
    "---\n",
    "\n",
    "> **Warning**：本專案重點在於示範，並非要跑出極致的策略績效。若要在實際交易環境應用，仍需進一步加入嚴格的回測流程（如 Purged K-Fold CV、PBO、CPCV）、風險管理與動態參數調整等要素。\n",
    "\n",
    "---\n"
   ]
  },
  {
   "cell_type": "markdown",
   "id": "c45f83a7",
   "metadata": {},
   "source": [
    "### **讀取資料**\n",
    "- 讀取黃金所在群集資料，並將資料轉化為dollar bars"
   ]
  },
  {
   "cell_type": "code",
   "execution_count": 15,
   "id": "d9600947",
   "metadata": {},
   "outputs": [
    {
     "name": "stdout",
     "output_type": "stream",
     "text": [
      "Processing AUDUSD...\n",
      "Filtered Dollar Bars Count: 184442\n",
      "Processing EURGBP...\n",
      "Filtered Dollar Bars Count: 182676\n",
      "Processing EURUSD...\n",
      "Filtered Dollar Bars Count: 186054\n",
      "Processing GBPUSD...\n",
      "Filtered Dollar Bars Count: 183075\n",
      "Processing HK50...\n",
      "Filtered Dollar Bars Count: 10739\n",
      "Processing NZDUSD...\n",
      "Filtered Dollar Bars Count: 67499\n",
      "Processing UK100...\n",
      "Filtered Dollar Bars Count: 11067\n",
      "Processing US2000...\n",
      "Filtered Dollar Bars Count: 12016\n",
      "Processing USDCAD...\n",
      "Filtered Dollar Bars Count: 68479\n",
      "Processing XAGUSD...\n",
      "Filtered Dollar Bars Count: 55366\n",
      "Processing XAUUSD...\n",
      "Filtered Dollar Bars Count: 54861\n"
     ]
    }
   ],
   "source": [
    "import sys\n",
    "import os\n",
    "\n",
    "project_root = os.path.abspath(os.path.join(\"..\", \"QuantCommon\"))\n",
    "if project_root not in sys.path:\n",
    "    sys.path.append(project_root)\n",
    "\n",
    "# utils為我自己編寫的常用工具庫，檔案不在此作品集內\n",
    "from utils.processing import get_dollar_bars \n",
    "import numpy as np\n",
    "import pandas as pd\n",
    "import numpy as np\n",
    "\n",
    "\n",
    "clusters = pd.read_csv(\"results/clusters.csv\", index_col=0)\n",
    "\n",
    "group = clusters[clusters[\"cluster\"] == clusters.loc[\"XAUUSD_M1\", \"cluster\"]]\n",
    "data = dict({})\n",
    "for i in group.index:\n",
    "    print(f\"Processing {i[:-3]}...\")\n",
    "    filepath = os.path.join(project_root, \"data\", \"FI\", \"M1\",f\"{i}.csv\")\n",
    "    df = pd.read_csv(filepath, parse_dates=True)\n",
    "    df['time'] = pd.to_datetime(df['time'])\n",
    "    df = get_dollar_bars(df)\n",
    "    data[i[:-3]] = df"
   ]
  },
  {
   "cell_type": "markdown",
   "id": "77f718d2",
   "metadata": {},
   "source": [
    "### **Metalabeling**\n",
    "- primary model 為 cusum filter, 當價格變動超過前20日波動平均時做多\n",
    "- 用trible barrier method進行metalabeling\n",
    "- 依資料的uniqueness產生權重，讓模型訓練時資料能接近i.i.d.\n",
    "- 計算指標作為features，並將features標準化為建立多商品做準備"
   ]
  },
  {
   "cell_type": "code",
   "execution_count": 16,
   "id": "84356307",
   "metadata": {},
   "outputs": [
    {
     "name": "stdout",
     "output_type": "stream",
     "text": [
      "Processing AUDUSD...\n",
      "Processing EURGBP...\n",
      "Processing EURUSD...\n",
      "Processing GBPUSD...\n",
      "Processing HK50...\n",
      "Processing NZDUSD...\n",
      "Processing UK100...\n",
      "Processing US2000...\n",
      "Processing USDCAD...\n",
      "Processing XAGUSD...\n",
      "Processing XAUUSD...\n"
     ]
    },
    {
     "data": {
      "text/plain": [
       "['intermediate_results/events_data.joblib']"
      ]
     },
     "execution_count": 16,
     "metadata": {},
     "output_type": "execute_result"
    }
   ],
   "source": [
    "from utils.metalabeling import add_vertical_barrier, get_events, get_bins\n",
    "from utils.processing import apply_cusum_filter, getDailyVol, cal_weights, compute_talib_features\n",
    "from joblib import load\n",
    "\n",
    "feats_list, labels_list, weights_list, t1_list = [], [], [], []\n",
    "pca_pipe = load(\"models/pipeline_scaler_pca.joblib\")\n",
    "\n",
    "for symbol,df in data.items():\n",
    "    print(f\"Processing {symbol}...\")\n",
    "    vol = getDailyVol(df[\"close\"], span0=20)\n",
    "    cusum_events  = apply_cusum_filter(df, volatility=vol).index\n",
    "    vertical_barriers = add_vertical_barrier(cusum_events, df, num_days=2)\n",
    "    pt_sl = [1, 1]\n",
    "    min_ret = 0.003\n",
    "    triple_barrier_events = get_events(close=df[\"close\"],\n",
    "                                                t_events=cusum_events,\n",
    "                                                pt_sl=pt_sl,\n",
    "                                                target=vol,\n",
    "                                                min_ret=min_ret,\n",
    "                                                num_threads=4,\n",
    "                                                vertical_barrier_times=vertical_barriers,\n",
    "                                                side_prediction=None)\n",
    "    labels  = get_bins(triple_barrier_events, df[\"close\"])\n",
    "    weights = cal_weights(triple_barrier_events, df[\"close\"])\n",
    "    feats = compute_talib_features(df,\n",
    "                               periods=[7,28,50,100],\n",
    "                               apply_ffd=True)\n",
    "    \n",
    "    # normalize features\n",
    "    for col in feats.columns:\n",
    "        # 每個 col 分別做 rolling.apply\n",
    "        feats[col] = (\n",
    "            feats[col]\n",
    "            .rolling(window=200, min_periods=1)\n",
    "            .apply(lambda arr: (arr <= arr[-1]).sum() / len(arr), raw=True)\n",
    "        )\n",
    "    idx = feats.index.intersection(labels.index)\n",
    "    feats = feats.loc[idx]\n",
    "    labels = labels.loc[idx][\"bin\"]\n",
    "    weights = weights.loc[idx][\"weight\"]\n",
    "    weights = weights / weights.mean() # normalize weights\n",
    "    t1 = triple_barrier_events.loc[idx][\"t1\"]\n",
    "\n",
    "    # apply PCA\n",
    "    pca_results = pca_pipe.transform(feats)\n",
    "    col = [f\"PCA_{i}\" for i in range(pca_results.shape[1])]\n",
    "    feats = pd.DataFrame(pca_results, columns= col, index=feats.index)\n",
    "\n",
    "    feats_list.append(feats)\n",
    "    labels_list.append(labels.rename(\"label\"))\n",
    "    weights_list.append(weights.rename(\"weight\"))\n",
    "    t1_list.append(t1.rename(\"t1\"))\n",
    "\n",
    "\n",
    "from joblib import dump\n",
    "# 儲存中間結果\n",
    "dump(\n",
    "    (feats_list, labels_list, weights_list, t1_list),\n",
    "    \"intermediate_results/events_data.joblib\",\n",
    "    compress=3  # 可選壓縮等級，0-9\n",
    ")\n",
    "\n",
    "\n"
   ]
  },
  {
   "cell_type": "markdown",
   "id": "8f3e6916",
   "metadata": {},
   "source": [
    "### **篩選特徵**\n",
    "- 以Project2計算之mdi, mda, sfi前50%的交集作為訓練特徵"
   ]
  },
  {
   "cell_type": "code",
   "execution_count": 17,
   "id": "dce88a93",
   "metadata": {},
   "outputs": [
    {
     "name": "stdout",
     "output_type": "stream",
     "text": [
      "中位數 cutoff: 0.03148781892216005\n",
      "中位數 cutoff: -2.9691514357499393e-05\n",
      "中位數 cutoff: -0.6939484490882586\n",
      "三項Feature Importance 中前 50% 的交集：\n",
      "['PCA_10', 'PCA_4', 'PCA_9', 'PCA_15', 'PCA_29', 'PCA_22']\n"
     ]
    }
   ],
   "source": [
    "# 讀取存檔\n",
    "from joblib import load\n",
    "feats_list, labels_list, weights_list, t1_list = load(\"intermediate_results/events_data.joblib\")\n",
    "\n",
    "import pandas as pd\n",
    "\n",
    "mdi = pd.read_csv(\"results/mdi.csv\", index_col=0)\n",
    "mda = pd.read_csv(\"results/mda.csv\", index_col=0)\n",
    "sfi = pd.read_csv(\"results/sfi.csv\", index_col=0)\n",
    "\n",
    "\n",
    "imp_list = [mdi, mda, sfi]\n",
    "\n",
    "top_half_index_sets = []\n",
    "\n",
    "for imp in imp_list:\n",
    "    cutoff = imp[\"mean\"].quantile(0.5)\n",
    "\n",
    "    print(f\"中位數 cutoff: {cutoff}\")\n",
    "    top_half = imp[imp[\"mean\"] >= cutoff].index\n",
    "    top_half_index_sets.append(set(top_half))\n",
    "\n",
    "\n",
    "selected_col = list(top_half_index_sets[0] & top_half_index_sets[1] & top_half_index_sets[2])\n",
    "\n",
    "print(\"三項Feature Importance 中前 50% 的交集：\")\n",
    "print(selected_col)\n"
   ]
  },
  {
   "cell_type": "markdown",
   "id": "d00f8e52",
   "metadata": {},
   "source": [
    "### **Train Test split**\n",
    "- 以2022年後的資料作為test dataset\n",
    "- 由於資料包含多種商品，用比率切割可能會導致回測時資訊洩漏，所以用固定時間來切割資料"
   ]
  },
  {
   "cell_type": "code",
   "execution_count": 18,
   "id": "21ac79ac",
   "metadata": {},
   "outputs": [
    {
     "name": "stdout",
     "output_type": "stream",
     "text": [
      "AUDUSD: 3659 train samples, 470 test samples\n",
      "EURGBP: 1471 train samples, 12 test samples\n",
      "EURUSD: 1322 train samples, 85 test samples\n",
      "GBPUSD: 2372 train samples, 161 test samples\n",
      "HK50: 0 train samples, 1069 test samples\n",
      "NZDUSD: 1324 train samples, 513 test samples\n",
      "UK100: 0 train samples, 236 test samples\n",
      "US2000: 0 train samples, 1074 test samples\n",
      "USDCAD: 224 train samples, 35 test samples\n",
      "XAGUSD: 8464 train samples, 3425 test samples\n",
      "XAUUSD: 2691 train samples, 757 test samples\n"
     ]
    }
   ],
   "source": [
    "cutoff_date = pd.Timestamp(\"2023-01-01 00:00:00\")\n",
    "symbol = list(data.keys())\n",
    "\n",
    "\n",
    "train_X_dict = dict({})\n",
    "train_y_dict = dict({})\n",
    "train_weights_dict = dict({})\n",
    "train_t1_dict = dict({})\n",
    "test_X_dict = dict({})\n",
    "test_y_dict = dict({})\n",
    "for i in range(len(feats_list)):\n",
    "    train_X_dict[symbol[i]] = feats_list[i][feats_list[i].index < cutoff_date][selected_col]\n",
    "    train_y_dict[symbol[i]] = labels_list[i][labels_list[i].index < cutoff_date]\n",
    "\n",
    "    weights = weights_list[i]/ weights_list[i].mean()  # normalize weights\n",
    "    train_weights_dict[symbol[i]] = weights_list[i][weights_list[i].index < cutoff_date]\n",
    "    train_t1_dict[symbol[i]] = t1_list[i][t1_list[i].index < cutoff_date]\n",
    "    \n",
    "    test_X_dict[symbol[i]] = feats_list[i][feats_list[i].index >= cutoff_date][selected_col]\n",
    "    test_y_dict[symbol[i]] = labels_list[i][labels_list[i].index >= cutoff_date]\n",
    "    print(f\"{symbol[i]}: {len(train_X_dict[symbol[i]])} train samples, {len(test_X_dict[symbol[i]])} test samples\")\n"
   ]
  },
  {
   "cell_type": "markdown",
   "id": "f51d6278",
   "metadata": {},
   "source": [
    "### **資料整合**"
   ]
  },
  {
   "cell_type": "code",
   "execution_count": 19,
   "id": "b2a69a0e",
   "metadata": {},
   "outputs": [
    {
     "name": "stdout",
     "output_type": "stream",
     "text": [
      "(21527, 9) (7837, 7)\n",
      "                       PCA_10     PCA_4     PCA_9    PCA_15    PCA_29  \\\n",
      "time                                                                    \n",
      "2015-01-14 03:24:00  0.546630 -0.939254 -1.149156  1.626996  0.182917   \n",
      "2015-01-15 10:35:00  0.682192  0.461753 -1.320960  0.647311 -1.278995   \n",
      "2015-01-15 10:35:00 -1.083604  3.454458 -1.993289  0.017724  0.194547   \n",
      "2015-01-15 10:36:00  0.812573  0.359679 -2.695252  0.359304 -1.256943   \n",
      "2015-01-15 10:36:00 -1.021121  3.583805 -3.595947 -0.405635  0.156403   \n",
      "\n",
      "                       PCA_22  label                  t1    weight  \n",
      "time                                                                \n",
      "2015-01-14 03:24:00 -1.526394   -1.0 2015-01-14 04:25:00  0.000091  \n",
      "2015-01-15 10:35:00 -1.582541    1.0 2015-01-15 10:37:00  0.000054  \n",
      "2015-01-15 10:35:00 -0.742523    1.0 2015-01-15 10:37:00  0.000055  \n",
      "2015-01-15 10:36:00 -1.694360    1.0 2015-01-15 10:47:00  0.000047  \n",
      "2015-01-15 10:36:00 -0.867280    1.0 2015-01-15 10:48:00  0.000076  \n"
     ]
    }
   ],
   "source": [
    "train_X = pd.concat(list(train_X_dict.values()))\n",
    "train_y = pd.concat(list(train_y_dict.values()))\n",
    "train_t1 = pd.concat(list(train_t1_dict.values()))\n",
    "train_weight = pd.concat(list(train_weights_dict.values()))\n",
    "train_weight = train_weight/ sum(train_weight)\n",
    "train_dataset = pd.concat([train_X, train_y, train_t1, train_weight], axis=1).sort_index()\n",
    "\n",
    "test_X = pd.concat(list(test_X_dict.values()))\n",
    "test_y = pd.concat(list(test_y_dict.values()))\n",
    "\n",
    "test_dataset = pd.concat([test_X, test_y], axis=1).sort_index()\n",
    "\n",
    "print(train_dataset.shape, test_dataset.shape)\n",
    "print(train_dataset.head())"
   ]
  },
  {
   "cell_type": "markdown",
   "id": "fee61db6",
   "metadata": {},
   "source": [
    "### **模型訓練**\n",
    "- sklearn的Random Forest 採用的是uniform bootstrap, 這在非i.i.d.的金融資料上會導致模型失效, 因此自建Random Forest模型更改樣本挑選比率來讓資料更接近i.i.d."
   ]
  },
  {
   "cell_type": "code",
   "execution_count": 20,
   "id": "3d0e5cca",
   "metadata": {},
   "outputs": [],
   "source": [
    "train_X = train_dataset.drop(columns=[\"label\", \"t1\", \"weight\"])\n",
    "train_y = train_dataset[\"label\"]\n",
    "\n",
    "weights = train_dataset[\"weight\"]\n",
    "avgU = weights.mean()\n",
    "min_sameple_leaf = int(avgU*len(train_X)*0.01)"
   ]
  },
  {
   "cell_type": "code",
   "execution_count": 21,
   "id": "e2b4a21d",
   "metadata": {},
   "outputs": [
    {
     "name": "stdout",
     "output_type": "stream",
     "text": [
      "Mean test scores (neg_log_loss):\n",
      "[-0.69333556 -0.69319896 -0.69316514 -0.69302284 -0.69307122 -0.69310153\n",
      " -0.69399233 -0.69358822 -0.69342784 -0.69332089 -0.69333877 -0.69332736\n",
      " -0.69595036 -0.6945799  -0.69432675 -0.69408692 -0.69413212 -0.69416\n",
      " -0.70562871 -0.70008715 -0.6973878  -0.69674468 -0.69657281 -0.69628008]\n",
      "Best n_estimators: 100\n",
      "Best max_depth: 2\n"
     ]
    },
    {
     "data": {
      "text/plain": [
       "['models/bagging_RF.joblib']"
      ]
     },
     "execution_count": 21,
     "metadata": {},
     "output_type": "execute_result"
    }
   ],
   "source": [
    "from sklearn.tree import DecisionTreeClassifier\n",
    "from sklearn.ensemble import BaggingClassifier\n",
    "from sklearn.model_selection import GridSearchCV\n",
    "\n",
    "min_samples_leaf = max(10, int(0.01 * len(train_X)*avgU))  \n",
    "\n",
    "tree = DecisionTreeClassifier(\n",
    "    criterion=\"entropy\",\n",
    "    max_features=\"sqrt\",\n",
    "    class_weight=\"balanced\",\n",
    "    min_samples_leaf=min_samples_leaf,\n",
    "    random_state=42\n",
    ")\n",
    "\n",
    "RF = BaggingClassifier(\n",
    "    estimator=tree,\n",
    "    oob_score=True,\n",
    "    n_jobs=-1,\n",
    "    random_state=42,\n",
    ")\n",
    "\n",
    "\n",
    "parameters = {\n",
    "    'estimator__max_depth': [2, 4, 8, 16],\n",
    "    'n_estimators': [10, 25, 50, 100, 256, 512],\n",
    "}\n",
    "\n",
    "def perform_grid_search(X_data, y_data, weights):\n",
    "    clf = GridSearchCV(RF, parameters, cv=4, scoring='neg_log_loss', n_jobs=-1)\n",
    "    clf.fit(X_data, y_data, sample_weight=weights)\n",
    "\n",
    "    print(\"Mean test scores (neg_log_loss):\")\n",
    "    print(clf.cv_results_['mean_test_score'])\n",
    "\n",
    "    return clf.best_params_['n_estimators'], clf.best_params_['estimator__max_depth']\n",
    "\n",
    "best_n, best_depth = perform_grid_search(train_X, train_y, weights)\n",
    "print(f\"Best n_estimators: {best_n}\")\n",
    "print(f\"Best max_depth: {best_depth}\")\n",
    "\n",
    "\n",
    "tree = DecisionTreeClassifier(\n",
    "    criterion=\"entropy\",\n",
    "    max_features=\"sqrt\",\n",
    "    class_weight=\"balanced\",\n",
    "    max_depth=best_depth,\n",
    "    min_samples_leaf=min_samples_leaf,\n",
    "    random_state=42\n",
    ")\n",
    "\n",
    "RF = BaggingClassifier(\n",
    "    estimator=tree,\n",
    "    oob_score=True,\n",
    "    n_estimators=best_n,\n",
    "    n_jobs=-1,\n",
    "    random_state=42\n",
    ")\n",
    "RF_fit = RF.fit(train_X, train_y, sample_weight=weights)\n",
    "\n",
    "from joblib import dump\n",
    "dump(RF_fit, \"models/bagging_RF.joblib\", compress=3)  # 儲存模型\n"
   ]
  },
  {
   "cell_type": "markdown",
   "id": "73171751",
   "metadata": {},
   "source": [
    "### **Results(Train_dataset)**"
   ]
  },
  {
   "cell_type": "code",
   "execution_count": 22,
   "id": "dac5ff4e",
   "metadata": {},
   "outputs": [
    {
     "name": "stdout",
     "output_type": "stream",
     "text": [
      "              precision    recall  f1-score   support\n",
      "\n",
      "        -1.0     0.5260    0.5399    0.5329     10647\n",
      "         1.0     0.5378    0.5240    0.5308     10880\n",
      "\n",
      "    accuracy                         0.5318     21527\n",
      "   macro avg     0.5319    0.5319    0.5318     21527\n",
      "weighted avg     0.5320    0.5318    0.5318     21527\n",
      "\n",
      "Confusion Matrix\n",
      "[[5748 4899]\n",
      " [5179 5701]]\n"
     ]
    },
    {
     "data": {
      "image/png": "[encoded data removed]",
      "text/plain": [
       "<Figure size 640x480 with 1 Axes>"
      ]
     },
     "metadata": {},
     "output_type": "display_data"
    }
   ],
   "source": [
    "from sklearn.metrics import roc_curve, classification_report, confusion_matrix, f1_score\n",
    "import matplotlib.pyplot as plt\n",
    "\n",
    "# Performance Metrics\n",
    "y_pred_rf = RF_fit.predict_proba(train_X)[:, 1]\n",
    "y_pred = RF_fit.predict(train_X)\n",
    "fpr_rf, tpr_rf, _ = roc_curve(train_y, y_pred_rf)\n",
    "report = classification_report(train_y, y_pred, digits=4)\n",
    "print(report)\n",
    "\n",
    "print(\"Confusion Matrix\")\n",
    "print(confusion_matrix(train_y, y_pred))\n",
    "\n",
    "\n",
    "plt.figure(1)\n",
    "plt.plot([0, 1], [0, 1], 'k--')\n",
    "plt.plot(fpr_rf, tpr_rf, label='RF')\n",
    "plt.xlabel('False positive rate')\n",
    "plt.ylabel('True positive rate')\n",
    "plt.title('ROC curve')\n",
    "plt.legend(loc='best')\n",
    "plt.show()\n",
    "\n",
    "report_dict = classification_report(train_y, y_pred, output_dict=True, digits=4)\n",
    "df_report = pd.DataFrame(report_dict).transpose()\n",
    "df_report.to_csv('results/classification_report(Train).csv', index=True, encoding='utf-8-sig')"
   ]
  },
  {
   "cell_type": "markdown",
   "id": "7909b46d",
   "metadata": {},
   "source": [
    "### **Results(Test_dataset)**"
   ]
  },
  {
   "cell_type": "code",
   "execution_count": 23,
   "id": "25660bd0",
   "metadata": {},
   "outputs": [
    {
     "name": "stdout",
     "output_type": "stream",
     "text": [
      "              precision    recall  f1-score   support\n",
      "\n",
      "        -1.0     0.5182    0.5111    0.5146      4005\n",
      "         1.0     0.4963    0.5034    0.4998      3832\n",
      "\n",
      "    accuracy                         0.5073      7837\n",
      "   macro avg     0.5072    0.5073    0.5072      7837\n",
      "weighted avg     0.5075    0.5073    0.5074      7837\n",
      "\n",
      "Confusion Matrix\n",
      "[[2047 1958]\n",
      " [1903 1929]]\n"
     ]
    },
    {
     "data": {
      "image/png": "[encoded data removed]",
      "text/plain": [
       "<Figure size 640x480 with 1 Axes>"
      ]
     },
     "metadata": {},
     "output_type": "display_data"
    }
   ],
   "source": [
    "test_X = test_dataset.drop(columns=[\"label\"])\n",
    "test_y = test_dataset[\"label\"]\n",
    "# Performance Metrics\n",
    "y_pred_rf = RF_fit.predict_proba(test_X)[:, 1]\n",
    "y_pred = RF_fit.predict(test_X)\n",
    "fpr_rf, tpr_rf, _ = roc_curve(test_y, y_pred_rf)\n",
    "report = classification_report(test_y, y_pred, digits=4)\n",
    "print(report)\n",
    "\n",
    "print(\"Confusion Matrix\")\n",
    "print(confusion_matrix(test_y, y_pred))\n",
    "\n",
    "\n",
    "plt.figure(1)\n",
    "plt.plot([0, 1], [0, 1], 'k--')\n",
    "plt.plot(fpr_rf, tpr_rf, label='RF')\n",
    "plt.xlabel('False positive rate')\n",
    "plt.ylabel('True positive rate')\n",
    "plt.title('ROC curve')\n",
    "plt.legend(loc='best')\n",
    "plt.show()\n",
    "\n",
    "report_dict = classification_report(test_y, y_pred, output_dict=True, digits=4)\n",
    "df_report = pd.DataFrame(report_dict).transpose()\n",
    "df_report.to_csv('results/classification_report(Test).csv', index=True, encoding='utf-8-sig')"
   ]
  },
  {
   "cell_type": "code",
   "execution_count": null,
   "id": "a90e3dbb",
   "metadata": {},
   "outputs": [],
   "source": []
  }
 ],
 "metadata": {
  "kernelspec": {
   "display_name": "base",
   "language": "python",
   "name": "python3"
  },
  "language_info": {
   "codemirror_mode": {
    "name": "ipython",
    "version": 3
   },
   "file_extension": ".py",
   "mimetype": "text/x-python",
   "name": "python",
   "nbconvert_exporter": "python",
   "pygments_lexer": "ipython3",
   "version": "3.9.18"
  }
 },
 "nbformat": 4,
 "nbformat_minor": 5
}
